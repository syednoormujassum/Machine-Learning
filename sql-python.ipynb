{
 "cells": [
  {
   "cell_type": "code",
   "execution_count": 1,
   "id": "6b1ceb96",
   "metadata": {},
   "outputs": [
    {
     "name": "stdout",
     "output_type": "stream",
     "text": [
      "Collecting mysql-connector-pythonNote: you may need to restart the kernel to use updated packages.\n"
     ]
    },
    {
     "name": "stderr",
     "output_type": "stream",
     "text": [
      "WARNING: You are using pip version 20.2; however, version 22.1.2 is available.\n",
      "You should consider upgrading via the 'C:\\Users\\Administrator\\anaconda3\\python.exe -m pip install --upgrade pip' command.\n"
     ]
    },
    {
     "name": "stdout",
     "output_type": "stream",
     "text": [
      "\n",
      "  Downloading mysql_connector_python-8.0.29-cp38-cp38-win_amd64.whl (7.7 MB)\n",
      "Collecting protobuf>=3.0.0\n",
      "  Downloading protobuf-4.21.1-cp38-cp38-win_amd64.whl (524 kB)\n",
      "Installing collected packages: protobuf, mysql-connector-python\n",
      "Successfully installed mysql-connector-python-8.0.29 protobuf-4.21.1\n"
     ]
    }
   ],
   "source": [
    "pip install mysql-connector-python"
   ]
  },
  {
   "cell_type": "code",
   "execution_count": 52,
   "id": "bc7f0ad8",
   "metadata": {},
   "outputs": [
    {
     "name": "stdout",
     "output_type": "stream",
     "text": [
      "<mysql.connector.connection_cext.CMySQLConnection object at 0x0000022F9544FBE0>\n"
     ]
    }
   ],
   "source": [
    "import mysql.connector\n",
    "\n",
    "mydb = mysql.connector.connect(\n",
    "    host=\"localhost\", #host = \"127.0.0.1\",\n",
    "    user=\"root\",\n",
    "    password=\"admin1234\",\n",
    "    database=\"mydemo\"\n",
    "    \n",
    ")\n",
    "print(mydb)"
   ]
  },
  {
   "cell_type": "code",
   "execution_count": 53,
   "id": "709678b5",
   "metadata": {},
   "outputs": [
    {
     "name": "stdout",
     "output_type": "stream",
     "text": [
      "('B0001', 'King Street', 'Toronto')\n",
      "('B0002', 'Edmon Street', 'Calgary')\n",
      "('B0003', 'French Street', 'Montreal')\n",
      "('B0004', 'Thames Street', 'London')\n",
      "('B0005', 'JP Nagar', 'Bangalore')\n",
      "('B0006', 'Ellesmere', 'Toronto')\n",
      "('B0007', 'Frazer Town', 'Bangalore')\n",
      "('B0008', 'Rodes Street', 'Tibet')\n"
     ]
    }
   ],
   "source": [
    "cursor = mydb.cursor()\n",
    "\n",
    "cursor.execute(\"select * from branch\")\n",
    "for x in cursor:\n",
    "    print(x)"
   ]
  },
  {
   "cell_type": "code",
   "execution_count": 47,
   "id": "251a2773",
   "metadata": {},
   "outputs": [],
   "source": [
    "cursor = mydb.cursor()\n",
    "\n",
    "#cursor.execute (\"CREATE TABLE user (name VARCHAR(20), address VARCHAR(20))\")\n"
   ]
  },
  {
   "cell_type": "code",
   "execution_count": 31,
   "id": "620f73b8",
   "metadata": {},
   "outputs": [
    {
     "name": "stdout",
     "output_type": "stream",
     "text": [
      "('account',)\n",
      "('branch',)\n",
      "('customer',)\n",
      "('customersub',)\n",
      "('datacustomer',)\n",
      "('new_account',)\n",
      "('student',)\n",
      "('user',)\n",
      "('users',)\n"
     ]
    }
   ],
   "source": [
    "cursor = mydb.cursor()\n",
    "\n",
    "cursor.execute(\"show tables\")\n",
    "for x in cursor:\n",
    "    print(x)"
   ]
  },
  {
   "cell_type": "code",
   "execution_count": 33,
   "id": "cbb8f786",
   "metadata": {},
   "outputs": [
    {
     "name": "stdout",
     "output_type": "stream",
     "text": [
      "('account',)\n",
      "('branch',)\n",
      "('customer',)\n",
      "('customersub',)\n",
      "('datacustomer',)\n",
      "('new_account',)\n",
      "('student',)\n",
      "('users',)\n"
     ]
    }
   ],
   "source": [
    "cursor = mydb.cursor()\n",
    "\n",
    "cursor.execute(\"drop table user\")\n",
    "cursor.execute(\"show tables\")\n",
    "for x in cursor:\n",
    "    print(x)"
   ]
  },
  {
   "cell_type": "code",
   "execution_count": 34,
   "id": "7259ab82",
   "metadata": {},
   "outputs": [
    {
     "name": "stdout",
     "output_type": "stream",
     "text": [
      "0 record inserted\n"
     ]
    }
   ],
   "source": [
    "sql = \"insert into users (name, address) values (%s, %s)\"\n",
    "val = (\"syed\", \"pharmacy-ellesmere\")\n",
    "cursor=mydb.cursor()\n",
    "cursor.execute(sql,val)\n",
    "mydb.commit()\n",
    "\n",
    "print(mycursor.rowcount, \"record inserted\")"
   ]
  },
  {
   "cell_type": "code",
   "execution_count": 35,
   "id": "2bfcf2b5",
   "metadata": {},
   "outputs": [
    {
     "name": "stdout",
     "output_type": "stream",
     "text": [
      "0 were inserted\n"
     ]
    }
   ],
   "source": [
    "cursor = mydb.cursor()\n",
    "\n",
    "sql = \"INSERT INTO users (name, address) VALUES (%s, %s)\"\n",
    "val = [\n",
    "    ('Amira', 'Birchmount'),\n",
    "    ('Niranjan', 'Finch'),\n",
    "    ('Shreya', 'Kingston'),\n",
    "    ('Rauf', 'Milton'),\n",
    "    ('Ahad', 'Ajax'),\n",
    "    ('Uzma', 'Pickering'),\n",
    "    ('Imaad', 'Markham')\n",
    "]\n",
    "cursor.executemany(sql, val)\n",
    "mydb.commit()\n",
    "print(mycursor.rowcount, \"were inserted\")"
   ]
  },
  {
   "cell_type": "code",
   "execution_count": 36,
   "id": "e759ec79",
   "metadata": {
    "scrolled": true
   },
   "outputs": [
    {
     "name": "stdout",
     "output_type": "stream",
     "text": [
      "('syed', 'pharmacy-ellesmere')\n",
      "('Amira', 'Birchmount')\n",
      "('Niranjan', 'Finch')\n",
      "('Shreya', 'Kingston')\n",
      "('Rauf', 'Milton')\n",
      "('Ahad', 'Ajax')\n",
      "('Uzma', 'Pickering')\n",
      "('Imaad', 'Markham')\n"
     ]
    }
   ],
   "source": [
    "cursor.execute(\"select*from users\")\n",
    "for x in cursor:\n",
    "    print(x)"
   ]
  },
  {
   "cell_type": "code",
   "execution_count": 37,
   "id": "62247df8",
   "metadata": {},
   "outputs": [
    {
     "name": "stdout",
     "output_type": "stream",
     "text": [
      "(8,)\n"
     ]
    }
   ],
   "source": [
    "cursor.execute(\"select count(*) from users\")\n",
    "\n",
    "for x in cursor:\n",
    "    print(x)"
   ]
  },
  {
   "cell_type": "code",
   "execution_count": 54,
   "id": "4cf37609",
   "metadata": {},
   "outputs": [
    {
     "name": "stdout",
     "output_type": "stream",
     "text": [
      "('syed', 'pharmacy-ellesmere')\n",
      "('Amira', 'Birchmount')\n",
      "('Niranjan', 'Finch')\n",
      "('Shreya', 'Kingston')\n",
      "('Rauf', 'Milton')\n",
      "('Ahad', 'Ajax')\n",
      "('Uzma', 'Pickering')\n",
      "('Imaad', 'Markham')\n"
     ]
    }
   ],
   "source": [
    "#cursor = mydb.cursor()\n",
    "cursor.execute(\"select * from users\")\n",
    "result = cursor.fetchall()\n",
    "for x in result:\n",
    "    print (x)\n"
   ]
  },
  {
   "cell_type": "code",
   "execution_count": 55,
   "id": "f8405c6c",
   "metadata": {},
   "outputs": [
    {
     "name": "stdout",
     "output_type": "stream",
     "text": [
      "('syed', 'pharmacy-ellesmere')\n"
     ]
    }
   ],
   "source": [
    "cursor=mydb.cursor()\n",
    "cursor.execute(\"select * from users where address = 'pharmacy-ellesmere'\")\n",
    "result = cursor.fetchall()\n",
    "for x in result:\n",
    "    print(x)\n"
   ]
  },
  {
   "cell_type": "code",
   "execution_count": 56,
   "id": "a1f21392",
   "metadata": {},
   "outputs": [
    {
     "name": "stdout",
     "output_type": "stream",
     "text": [
      "('Shreya', 'Kingston')\n",
      "('Rauf', 'Milton')\n"
     ]
    }
   ],
   "source": [
    "cursor=mydb.cursor()\n",
    "cursor.execute(\"select * from users where address like '%ton'\")\n",
    "for x in cursor:\n",
    "    print(x)"
   ]
  },
  {
   "cell_type": "code",
   "execution_count": 60,
   "id": "bf215203",
   "metadata": {},
   "outputs": [
    {
     "name": "stdout",
     "output_type": "stream",
     "text": [
      "('Uzma', 'Pickering')\n",
      "('syed', 'pharmacy-ellesmere')\n",
      "('Shreya', 'Kingston')\n",
      "('Rauf', 'Milton')\n",
      "('Niranjan', 'Finch')\n",
      "('Imaad', 'Markham')\n",
      "('Amira', 'Birchmount')\n",
      "('Ahad', 'Ajax')\n"
     ]
    }
   ],
   "source": [
    "cursor=mydb.cursor()\n",
    "cursor.execute(\"select * from users order by name desc\")\n",
    "result = cursor.fetchall()\n",
    "for y in result:\n",
    "    print(y)"
   ]
  },
  {
   "cell_type": "code",
   "execution_count": null,
   "id": "4f8827e8",
   "metadata": {},
   "outputs": [],
   "source": []
  }
 ],
 "metadata": {
  "kernelspec": {
   "display_name": "Python 3",
   "language": "python",
   "name": "python3"
  },
  "language_info": {
   "codemirror_mode": {
    "name": "ipython",
    "version": 3
   },
   "file_extension": ".py",
   "mimetype": "text/x-python",
   "name": "python",
   "nbconvert_exporter": "python",
   "pygments_lexer": "ipython3",
   "version": "3.8.8"
  }
 },
 "nbformat": 4,
 "nbformat_minor": 5
}
