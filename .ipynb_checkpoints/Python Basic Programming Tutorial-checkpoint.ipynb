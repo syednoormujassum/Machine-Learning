{
 "cells": [
  {
   "cell_type": "code",
   "execution_count": 1,
   "id": "ab5c9370",
   "metadata": {},
   "outputs": [
    {
     "name": "stdout",
     "output_type": "stream",
     "text": [
      "Requirement already satisfied: pyforest in c:\\users\\administrator\\anaconda3\\lib\\site-packages (1.1.0)\n",
      "Note: you may need to restart the kernel to use updated packages.\n"
     ]
    },
    {
     "name": "stderr",
     "output_type": "stream",
     "text": [
      "WARNING: You are using pip version 20.2; however, version 21.3.1 is available.\n",
      "You should consider upgrading via the 'C:\\Users\\Administrator\\anaconda3\\python.exe -m pip install --upgrade pip' command.\n"
     ]
    }
   ],
   "source": [
    "pip install pyforest"
   ]
  },
  {
   "cell_type": "code",
   "execution_count": 2,
   "id": "4b33d798",
   "metadata": {},
   "outputs": [],
   "source": [
    "\n",
    "import pandas as pd"
   ]
  },
  {
   "cell_type": "code",
   "execution_count": 3,
   "id": "ec19d422",
   "metadata": {},
   "outputs": [],
   "source": [
    "import numpy as np"
   ]
  },
  {
   "cell_type": "code",
   "execution_count": 4,
   "id": "ab4c2d12",
   "metadata": {},
   "outputs": [],
   "source": [
    "import matplotlib.pyplot as plt\n",
    "import seaborn as sns"
   ]
  },
  {
   "cell_type": "code",
   "execution_count": 5,
   "id": "1bf18711",
   "metadata": {},
   "outputs": [],
   "source": [
    "import scipy as sp"
   ]
  },
  {
   "cell_type": "code",
   "execution_count": 6,
   "id": "d71fa011",
   "metadata": {},
   "outputs": [
    {
     "data": {
      "text/plain": [
       "'\\nHello My Name is Syed Noor Mujassum\\n\\n'"
      ]
     },
     "execution_count": 6,
     "metadata": {},
     "output_type": "execute_result"
    }
   ],
   "source": [
    "'''\n",
    "Hello My Name is Syed Noor Mujassum\n",
    "\n",
    "'''"
   ]
  },
  {
   "cell_type": "markdown",
   "id": "0bb384da",
   "metadata": {},
   "source": [
    "# Python\n",
    "## Welcome to Python tutorial"
   ]
  },
  {
   "cell_type": "markdown",
   "id": "6d3127b0",
   "metadata": {},
   "source": [
    "#### By\n",
    "##### Syed Noor Mujassum"
   ]
  },
  {
   "cell_type": "markdown",
   "id": "d3a605dd",
   "metadata": {},
   "source": [
    "- Datatypes\n",
    "- Functions\n",
    "- Arrays\n",
    "- Exception Handling"
   ]
  },
  {
   "cell_type": "markdown",
   "id": "f7dfb98b",
   "metadata": {},
   "source": [
    "## Various methods using print\n"
   ]
  },
  {
   "cell_type": "code",
   "execution_count": 7,
   "id": "8587baae",
   "metadata": {},
   "outputs": [
    {
     "name": "stdout",
     "output_type": "stream",
     "text": [
      "Hello\n"
     ]
    }
   ],
   "source": [
    "print('Hello')"
   ]
  },
  {
   "cell_type": "code",
   "execution_count": 8,
   "id": "01e2a2d3",
   "metadata": {},
   "outputs": [
    {
     "name": "stdout",
     "output_type": "stream",
     "text": [
      "Syed Noor Mujassum\n"
     ]
    }
   ],
   "source": [
    "print(\"Syed Noor Mujassum\")"
   ]
  },
  {
   "cell_type": "code",
   "execution_count": 9,
   "id": "38fb0c3d",
   "metadata": {},
   "outputs": [],
   "source": [
    "first_name = 'Syed Noor'\n",
    "last_name = 'Mujassum'"
   ]
  },
  {
   "cell_type": "code",
   "execution_count": 10,
   "id": "4cbc04f8",
   "metadata": {},
   "outputs": [
    {
     "name": "stdout",
     "output_type": "stream",
     "text": [
      "My first name is Syed Noor & and last name is Mujassum.\n"
     ]
    }
   ],
   "source": [
    "print('My first name is {} & and last name is {}.'.format(first_name,last_name))"
   ]
  },
  {
   "cell_type": "code",
   "execution_count": 11,
   "id": "b6998731",
   "metadata": {},
   "outputs": [
    {
     "name": "stdout",
     "output_type": "stream",
     "text": [
      "My first name is Syed Noor and my last name is Mujassum.\n"
     ]
    }
   ],
   "source": [
    "print('My first name is {first} and my last name is {last}.'.format(last = last_name, first = first_name))"
   ]
  },
  {
   "cell_type": "code",
   "execution_count": 12,
   "id": "6f6f75a8",
   "metadata": {},
   "outputs": [
    {
     "data": {
      "text/plain": [
       "18"
      ]
     },
     "execution_count": 12,
     "metadata": {},
     "output_type": "execute_result"
    }
   ],
   "source": [
    "len ('Syed Noor Mujassum')"
   ]
  },
  {
   "cell_type": "markdown",
   "id": "cd7e29cb",
   "metadata": {},
   "source": [
    "# Boolean expressions and operations"
   ]
  },
  {
   "cell_type": "code",
   "execution_count": 13,
   "id": "7847862a",
   "metadata": {},
   "outputs": [],
   "source": [
    "string1 = 'Syed Noor Mujassum'"
   ]
  },
  {
   "cell_type": "code",
   "execution_count": 14,
   "id": "3c0b37e2",
   "metadata": {},
   "outputs": [
    {
     "name": "stdout",
     "output_type": "stream",
     "text": [
      "False\n",
      "False\n",
      "False\n",
      "False\n",
      "True\n",
      "False\n",
      "True\n"
     ]
    }
   ],
   "source": [
    "print(string1.isalpha())\n",
    "print(string1.isalnum())\n",
    "print(string1.isdigit())\n",
    "print(string1.islower())\n",
    "print(string1.istitle())\n",
    "print(string1.isupper())\n",
    "print(string1.isprintable())"
   ]
  },
  {
   "cell_type": "code",
   "execution_count": 15,
   "id": "823b7d8a",
   "metadata": {},
   "outputs": [
    {
     "name": "stdout",
     "output_type": "stream",
     "text": [
      "True\n",
      "False\n",
      "True\n",
      "True\n",
      "False\n",
      "False\n"
     ]
    }
   ],
   "source": [
    "print(True and True)\n",
    "print(True and False)\n",
    "print(True or True)\n",
    "print(True or False)\n",
    "print(False or False)\n",
    "print(False and False)"
   ]
  },
  {
   "cell_type": "code",
   "execution_count": 16,
   "id": "9bf2d74f",
   "metadata": {},
   "outputs": [],
   "source": [
    "a = True and True\n"
   ]
  },
  {
   "cell_type": "code",
   "execution_count": 17,
   "id": "b03346e3",
   "metadata": {},
   "outputs": [
    {
     "data": {
      "text/plain": [
       "True"
      ]
     },
     "execution_count": 17,
     "metadata": {},
     "output_type": "execute_result"
    }
   ],
   "source": [
    "a"
   ]
  },
  {
   "cell_type": "code",
   "execution_count": 18,
   "id": "d305b9d6",
   "metadata": {},
   "outputs": [],
   "source": [
    "if (a == \"False\"):\n",
    "    \n",
    "    print('The Output is: 0')\n",
    "\n",
    "elif (a == \"True\"):\n",
    "    print('The Output is: 1')\n",
    "        "
   ]
  },
  {
   "cell_type": "code",
   "execution_count": 19,
   "id": "4bf6aea3",
   "metadata": {},
   "outputs": [
    {
     "data": {
      "text/plain": [
       "list"
      ]
     },
     "execution_count": 19,
     "metadata": {},
     "output_type": "execute_result"
    }
   ],
   "source": [
    "type([])"
   ]
  },
  {
   "cell_type": "code",
   "execution_count": 20,
   "id": "3bc751ad",
   "metadata": {},
   "outputs": [
    {
     "data": {
      "text/plain": [
       "tuple"
      ]
     },
     "execution_count": 20,
     "metadata": {},
     "output_type": "execute_result"
    }
   ],
   "source": [
    "type(())"
   ]
  },
  {
   "cell_type": "code",
   "execution_count": 21,
   "id": "2bdf560d",
   "metadata": {},
   "outputs": [
    {
     "data": {
      "text/plain": [
       "dict"
      ]
     },
     "execution_count": 21,
     "metadata": {},
     "output_type": "execute_result"
    }
   ],
   "source": [
    "type({})"
   ]
  },
  {
   "cell_type": "code",
   "execution_count": 22,
   "id": "0798b95e",
   "metadata": {},
   "outputs": [
    {
     "data": {
      "text/plain": [
       "list"
      ]
     },
     "execution_count": 22,
     "metadata": {},
     "output_type": "execute_result"
    }
   ],
   "source": [
    "type(list())"
   ]
  },
  {
   "cell_type": "code",
   "execution_count": 23,
   "id": "01bfda3c",
   "metadata": {},
   "outputs": [],
   "source": [
    "my_list = [1,2,3,4,5,'Shabeeb Rabha', 'Mujassum']"
   ]
  },
  {
   "cell_type": "code",
   "execution_count": 24,
   "id": "62e389df",
   "metadata": {},
   "outputs": [
    {
     "data": {
      "text/plain": [
       "[1, 2, 3, 4, 5, 'Shabeeb Rabha', 'Mujassum']"
      ]
     },
     "execution_count": 24,
     "metadata": {},
     "output_type": "execute_result"
    }
   ],
   "source": [
    "my_list"
   ]
  },
  {
   "cell_type": "code",
   "execution_count": 25,
   "id": "31067c9d",
   "metadata": {},
   "outputs": [],
   "source": [
    "my_list.append('Rumaysa')"
   ]
  },
  {
   "cell_type": "code",
   "execution_count": 26,
   "id": "d4e825b1",
   "metadata": {},
   "outputs": [
    {
     "data": {
      "text/plain": [
       "[1, 2, 3, 4, 5, 'Shabeeb Rabha', 'Mujassum', 'Rumaysa']"
      ]
     },
     "execution_count": 26,
     "metadata": {},
     "output_type": "execute_result"
    }
   ],
   "source": [
    "my_list"
   ]
  },
  {
   "cell_type": "code",
   "execution_count": 27,
   "id": "c0836b92",
   "metadata": {},
   "outputs": [],
   "source": [
    "my_list.append('Nusayba')"
   ]
  },
  {
   "cell_type": "code",
   "execution_count": 28,
   "id": "d6fd466c",
   "metadata": {},
   "outputs": [
    {
     "data": {
      "text/plain": [
       "[1, 2, 3, 4, 5, 'Shabeeb Rabha', 'Mujassum', 'Rumaysa', 'Nusayba']"
      ]
     },
     "execution_count": 28,
     "metadata": {},
     "output_type": "execute_result"
    }
   ],
   "source": [
    "my_list"
   ]
  },
  {
   "cell_type": "code",
   "execution_count": 29,
   "id": "07de956b",
   "metadata": {},
   "outputs": [
    {
     "data": {
      "text/plain": [
       "9"
      ]
     },
     "execution_count": 29,
     "metadata": {},
     "output_type": "execute_result"
    }
   ],
   "source": [
    "len(my_list)"
   ]
  },
  {
   "cell_type": "code",
   "execution_count": 30,
   "id": "02421e24",
   "metadata": {},
   "outputs": [],
   "source": [
    "my_list[6] = 'Sabah'"
   ]
  },
  {
   "cell_type": "code",
   "execution_count": 31,
   "id": "b8435243",
   "metadata": {},
   "outputs": [
    {
     "data": {
      "text/plain": [
       "[1, 2, 3, 4, 5, 'Shabeeb Rabha', 'Sabah', 'Rumaysa', 'Nusayba']"
      ]
     },
     "execution_count": 31,
     "metadata": {},
     "output_type": "execute_result"
    }
   ],
   "source": [
    "my_list"
   ]
  },
  {
   "cell_type": "code",
   "execution_count": 32,
   "id": "815188ca",
   "metadata": {},
   "outputs": [],
   "source": [
    "my_list.append('Ginger')"
   ]
  },
  {
   "cell_type": "code",
   "execution_count": 33,
   "id": "1003cecb",
   "metadata": {},
   "outputs": [],
   "source": [
    "my_list.append('Coco')"
   ]
  },
  {
   "cell_type": "code",
   "execution_count": 34,
   "id": "c07166d1",
   "metadata": {},
   "outputs": [
    {
     "data": {
      "text/plain": [
       "[1,\n",
       " 2,\n",
       " 3,\n",
       " 4,\n",
       " 5,\n",
       " 'Shabeeb Rabha',\n",
       " 'Sabah',\n",
       " 'Rumaysa',\n",
       " 'Nusayba',\n",
       " 'Ginger',\n",
       " 'Coco']"
      ]
     },
     "execution_count": 34,
     "metadata": {},
     "output_type": "execute_result"
    }
   ],
   "source": [
    "my_list"
   ]
  },
  {
   "cell_type": "code",
   "execution_count": 35,
   "id": "b3e66863",
   "metadata": {},
   "outputs": [
    {
     "data": {
      "text/plain": [
       "['Shabeeb Rabha', 'Sabah', 'Rumaysa', 'Nusayba', 'Ginger', 'Coco']"
      ]
     },
     "execution_count": 35,
     "metadata": {},
     "output_type": "execute_result"
    }
   ],
   "source": [
    "family_list  = my_list[5:]\n",
    "family_list"
   ]
  },
  {
   "cell_type": "code",
   "execution_count": 36,
   "id": "9e74903e",
   "metadata": {},
   "outputs": [
    {
     "data": {
      "text/html": [
       "<div>\n",
       "<style scoped>\n",
       "    .dataframe tbody tr th:only-of-type {\n",
       "        vertical-align: middle;\n",
       "    }\n",
       "\n",
       "    .dataframe tbody tr th {\n",
       "        vertical-align: top;\n",
       "    }\n",
       "\n",
       "    .dataframe thead th {\n",
       "        text-align: right;\n",
       "    }\n",
       "</style>\n",
       "<table border=\"1\" class=\"dataframe\">\n",
       "  <thead>\n",
       "    <tr style=\"text-align: right;\">\n",
       "      <th></th>\n",
       "      <th>Names</th>\n",
       "    </tr>\n",
       "  </thead>\n",
       "  <tbody>\n",
       "    <tr>\n",
       "      <th>0</th>\n",
       "      <td>Shabeeb Rabha</td>\n",
       "    </tr>\n",
       "    <tr>\n",
       "      <th>1</th>\n",
       "      <td>Sabah</td>\n",
       "    </tr>\n",
       "    <tr>\n",
       "      <th>2</th>\n",
       "      <td>Rumaysa</td>\n",
       "    </tr>\n",
       "    <tr>\n",
       "      <th>3</th>\n",
       "      <td>Nusayba</td>\n",
       "    </tr>\n",
       "    <tr>\n",
       "      <th>4</th>\n",
       "      <td>Ginger</td>\n",
       "    </tr>\n",
       "    <tr>\n",
       "      <th>5</th>\n",
       "      <td>Coco</td>\n",
       "    </tr>\n",
       "  </tbody>\n",
       "</table>\n",
       "</div>"
      ],
      "text/plain": [
       "           Names\n",
       "0  Shabeeb Rabha\n",
       "1          Sabah\n",
       "2        Rumaysa\n",
       "3        Nusayba\n",
       "4         Ginger\n",
       "5           Coco"
      ]
     },
     "execution_count": 36,
     "metadata": {},
     "output_type": "execute_result"
    }
   ],
   "source": [
    "df = pd.DataFrame(family_list, columns=['Names'])\n",
    "df"
   ]
  },
  {
   "cell_type": "markdown",
   "id": "84af93a0",
   "metadata": {},
   "source": [
    "#### Inserting a Column in exhisting DataFrame"
   ]
  },
  {
   "cell_type": "code",
   "execution_count": 37,
   "id": "8c28c7e9",
   "metadata": {},
   "outputs": [],
   "source": [
    " df.insert(1, \"Relationship\", ['Husband','Wife','Daughter','Daughter','Pet','Pet'], True)"
   ]
  },
  {
   "cell_type": "code",
   "execution_count": 38,
   "id": "66af2dcd",
   "metadata": {},
   "outputs": [
    {
     "data": {
      "text/html": [
       "<div>\n",
       "<style scoped>\n",
       "    .dataframe tbody tr th:only-of-type {\n",
       "        vertical-align: middle;\n",
       "    }\n",
       "\n",
       "    .dataframe tbody tr th {\n",
       "        vertical-align: top;\n",
       "    }\n",
       "\n",
       "    .dataframe thead th {\n",
       "        text-align: right;\n",
       "    }\n",
       "</style>\n",
       "<table border=\"1\" class=\"dataframe\">\n",
       "  <thead>\n",
       "    <tr style=\"text-align: right;\">\n",
       "      <th></th>\n",
       "      <th>Names</th>\n",
       "      <th>Relationship</th>\n",
       "    </tr>\n",
       "  </thead>\n",
       "  <tbody>\n",
       "    <tr>\n",
       "      <th>0</th>\n",
       "      <td>Shabeeb Rabha</td>\n",
       "      <td>Husband</td>\n",
       "    </tr>\n",
       "    <tr>\n",
       "      <th>1</th>\n",
       "      <td>Sabah</td>\n",
       "      <td>Wife</td>\n",
       "    </tr>\n",
       "    <tr>\n",
       "      <th>2</th>\n",
       "      <td>Rumaysa</td>\n",
       "      <td>Daughter</td>\n",
       "    </tr>\n",
       "    <tr>\n",
       "      <th>3</th>\n",
       "      <td>Nusayba</td>\n",
       "      <td>Daughter</td>\n",
       "    </tr>\n",
       "    <tr>\n",
       "      <th>4</th>\n",
       "      <td>Ginger</td>\n",
       "      <td>Pet</td>\n",
       "    </tr>\n",
       "    <tr>\n",
       "      <th>5</th>\n",
       "      <td>Coco</td>\n",
       "      <td>Pet</td>\n",
       "    </tr>\n",
       "  </tbody>\n",
       "</table>\n",
       "</div>"
      ],
      "text/plain": [
       "           Names Relationship\n",
       "0  Shabeeb Rabha      Husband\n",
       "1          Sabah         Wife\n",
       "2        Rumaysa     Daughter\n",
       "3        Nusayba     Daughter\n",
       "4         Ginger          Pet\n",
       "5           Coco          Pet"
      ]
     },
     "execution_count": 38,
     "metadata": {},
     "output_type": "execute_result"
    }
   ],
   "source": [
    "df"
   ]
  },
  {
   "cell_type": "code",
   "execution_count": 39,
   "id": "e8d7c78e",
   "metadata": {},
   "outputs": [],
   "source": [
    "df.loc[1,[\"Names\"]] = ['Sabah Ebrahim']"
   ]
  },
  {
   "cell_type": "code",
   "execution_count": 40,
   "id": "57249a06",
   "metadata": {},
   "outputs": [
    {
     "data": {
      "text/html": [
       "<div>\n",
       "<style scoped>\n",
       "    .dataframe tbody tr th:only-of-type {\n",
       "        vertical-align: middle;\n",
       "    }\n",
       "\n",
       "    .dataframe tbody tr th {\n",
       "        vertical-align: top;\n",
       "    }\n",
       "\n",
       "    .dataframe thead th {\n",
       "        text-align: right;\n",
       "    }\n",
       "</style>\n",
       "<table border=\"1\" class=\"dataframe\">\n",
       "  <thead>\n",
       "    <tr style=\"text-align: right;\">\n",
       "      <th></th>\n",
       "      <th>Names</th>\n",
       "      <th>Relationship</th>\n",
       "    </tr>\n",
       "  </thead>\n",
       "  <tbody>\n",
       "    <tr>\n",
       "      <th>0</th>\n",
       "      <td>Shabeeb Rabha</td>\n",
       "      <td>Husband</td>\n",
       "    </tr>\n",
       "    <tr>\n",
       "      <th>1</th>\n",
       "      <td>Sabah Ebrahim</td>\n",
       "      <td>Wife</td>\n",
       "    </tr>\n",
       "    <tr>\n",
       "      <th>2</th>\n",
       "      <td>Rumaysa</td>\n",
       "      <td>Daughter</td>\n",
       "    </tr>\n",
       "    <tr>\n",
       "      <th>3</th>\n",
       "      <td>Nusayba</td>\n",
       "      <td>Daughter</td>\n",
       "    </tr>\n",
       "    <tr>\n",
       "      <th>4</th>\n",
       "      <td>Ginger</td>\n",
       "      <td>Pet</td>\n",
       "    </tr>\n",
       "    <tr>\n",
       "      <th>5</th>\n",
       "      <td>Coco</td>\n",
       "      <td>Pet</td>\n",
       "    </tr>\n",
       "  </tbody>\n",
       "</table>\n",
       "</div>"
      ],
      "text/plain": [
       "           Names Relationship\n",
       "0  Shabeeb Rabha      Husband\n",
       "1  Sabah Ebrahim         Wife\n",
       "2        Rumaysa     Daughter\n",
       "3        Nusayba     Daughter\n",
       "4         Ginger          Pet\n",
       "5           Coco          Pet"
      ]
     },
     "execution_count": 40,
     "metadata": {},
     "output_type": "execute_result"
    }
   ],
   "source": [
    "df"
   ]
  },
  {
   "cell_type": "code",
   "execution_count": 41,
   "id": "69fd8b22",
   "metadata": {},
   "outputs": [],
   "source": [
    "df.loc[2:3,[\"Names\"]] = ['Rumaysa Fathima','Nusayba Khadija']"
   ]
  },
  {
   "cell_type": "code",
   "execution_count": 42,
   "id": "37309f21",
   "metadata": {},
   "outputs": [
    {
     "data": {
      "text/html": [
       "<div>\n",
       "<style scoped>\n",
       "    .dataframe tbody tr th:only-of-type {\n",
       "        vertical-align: middle;\n",
       "    }\n",
       "\n",
       "    .dataframe tbody tr th {\n",
       "        vertical-align: top;\n",
       "    }\n",
       "\n",
       "    .dataframe thead th {\n",
       "        text-align: right;\n",
       "    }\n",
       "</style>\n",
       "<table border=\"1\" class=\"dataframe\">\n",
       "  <thead>\n",
       "    <tr style=\"text-align: right;\">\n",
       "      <th></th>\n",
       "      <th>Names</th>\n",
       "      <th>Relationship</th>\n",
       "    </tr>\n",
       "  </thead>\n",
       "  <tbody>\n",
       "    <tr>\n",
       "      <th>0</th>\n",
       "      <td>Shabeeb Rabha</td>\n",
       "      <td>Husband</td>\n",
       "    </tr>\n",
       "    <tr>\n",
       "      <th>1</th>\n",
       "      <td>Sabah Ebrahim</td>\n",
       "      <td>Wife</td>\n",
       "    </tr>\n",
       "    <tr>\n",
       "      <th>2</th>\n",
       "      <td>Rumaysa Fathima</td>\n",
       "      <td>Daughter</td>\n",
       "    </tr>\n",
       "    <tr>\n",
       "      <th>3</th>\n",
       "      <td>Nusayba Khadija</td>\n",
       "      <td>Daughter</td>\n",
       "    </tr>\n",
       "    <tr>\n",
       "      <th>4</th>\n",
       "      <td>Ginger</td>\n",
       "      <td>Pet</td>\n",
       "    </tr>\n",
       "    <tr>\n",
       "      <th>5</th>\n",
       "      <td>Coco</td>\n",
       "      <td>Pet</td>\n",
       "    </tr>\n",
       "  </tbody>\n",
       "</table>\n",
       "</div>"
      ],
      "text/plain": [
       "             Names Relationship\n",
       "0    Shabeeb Rabha      Husband\n",
       "1    Sabah Ebrahim         Wife\n",
       "2  Rumaysa Fathima     Daughter\n",
       "3  Nusayba Khadija     Daughter\n",
       "4           Ginger          Pet\n",
       "5             Coco          Pet"
      ]
     },
     "execution_count": 42,
     "metadata": {},
     "output_type": "execute_result"
    }
   ],
   "source": [
    "df"
   ]
  },
  {
   "cell_type": "code",
   "execution_count": 43,
   "id": "825bab97",
   "metadata": {},
   "outputs": [],
   "source": [
    "df.loc[4, [\"Names\", \"Relationship\"]] = ['Sulaith Rabaita', 'Sister']"
   ]
  },
  {
   "cell_type": "code",
   "execution_count": 44,
   "id": "1b7afb1c",
   "metadata": {},
   "outputs": [
    {
     "data": {
      "text/html": [
       "<div>\n",
       "<style scoped>\n",
       "    .dataframe tbody tr th:only-of-type {\n",
       "        vertical-align: middle;\n",
       "    }\n",
       "\n",
       "    .dataframe tbody tr th {\n",
       "        vertical-align: top;\n",
       "    }\n",
       "\n",
       "    .dataframe thead th {\n",
       "        text-align: right;\n",
       "    }\n",
       "</style>\n",
       "<table border=\"1\" class=\"dataframe\">\n",
       "  <thead>\n",
       "    <tr style=\"text-align: right;\">\n",
       "      <th></th>\n",
       "      <th>Names</th>\n",
       "      <th>Relationship</th>\n",
       "    </tr>\n",
       "  </thead>\n",
       "  <tbody>\n",
       "    <tr>\n",
       "      <th>0</th>\n",
       "      <td>Shabeeb Rabha</td>\n",
       "      <td>Husband</td>\n",
       "    </tr>\n",
       "    <tr>\n",
       "      <th>1</th>\n",
       "      <td>Sabah Ebrahim</td>\n",
       "      <td>Wife</td>\n",
       "    </tr>\n",
       "    <tr>\n",
       "      <th>2</th>\n",
       "      <td>Rumaysa Fathima</td>\n",
       "      <td>Daughter</td>\n",
       "    </tr>\n",
       "    <tr>\n",
       "      <th>3</th>\n",
       "      <td>Nusayba Khadija</td>\n",
       "      <td>Daughter</td>\n",
       "    </tr>\n",
       "    <tr>\n",
       "      <th>4</th>\n",
       "      <td>Sulaith Rabaita</td>\n",
       "      <td>Sister</td>\n",
       "    </tr>\n",
       "    <tr>\n",
       "      <th>5</th>\n",
       "      <td>Coco</td>\n",
       "      <td>Pet</td>\n",
       "    </tr>\n",
       "  </tbody>\n",
       "</table>\n",
       "</div>"
      ],
      "text/plain": [
       "             Names Relationship\n",
       "0    Shabeeb Rabha      Husband\n",
       "1    Sabah Ebrahim         Wife\n",
       "2  Rumaysa Fathima     Daughter\n",
       "3  Nusayba Khadija     Daughter\n",
       "4  Sulaith Rabaita       Sister\n",
       "5             Coco          Pet"
      ]
     },
     "execution_count": 44,
     "metadata": {},
     "output_type": "execute_result"
    }
   ],
   "source": [
    "df"
   ]
  },
  {
   "cell_type": "code",
   "execution_count": 45,
   "id": "17e3e2ba",
   "metadata": {},
   "outputs": [],
   "source": [
    "df.loc[5,[\"Names\",\"Relationship\"]] = ['Akmal Mohammed','Brother-in-law']"
   ]
  },
  {
   "cell_type": "code",
   "execution_count": 46,
   "id": "45564851",
   "metadata": {},
   "outputs": [],
   "source": [
    "df.loc[6,[\"Names\",\"Relationship\"]] = ['Mariam Mohammed','Niece']\n",
    "df.loc[7,[\"Names\",\"Relationship\"]] = ['Sarah Mohammed','Niece']"
   ]
  },
  {
   "cell_type": "code",
   "execution_count": 47,
   "id": "7d1faedc",
   "metadata": {},
   "outputs": [
    {
     "data": {
      "text/html": [
       "<div>\n",
       "<style scoped>\n",
       "    .dataframe tbody tr th:only-of-type {\n",
       "        vertical-align: middle;\n",
       "    }\n",
       "\n",
       "    .dataframe tbody tr th {\n",
       "        vertical-align: top;\n",
       "    }\n",
       "\n",
       "    .dataframe thead th {\n",
       "        text-align: right;\n",
       "    }\n",
       "</style>\n",
       "<table border=\"1\" class=\"dataframe\">\n",
       "  <thead>\n",
       "    <tr style=\"text-align: right;\">\n",
       "      <th></th>\n",
       "      <th>Names</th>\n",
       "      <th>Relationship</th>\n",
       "    </tr>\n",
       "  </thead>\n",
       "  <tbody>\n",
       "    <tr>\n",
       "      <th>0</th>\n",
       "      <td>Shabeeb Rabha</td>\n",
       "      <td>Husband</td>\n",
       "    </tr>\n",
       "    <tr>\n",
       "      <th>1</th>\n",
       "      <td>Sabah Ebrahim</td>\n",
       "      <td>Wife</td>\n",
       "    </tr>\n",
       "    <tr>\n",
       "      <th>2</th>\n",
       "      <td>Rumaysa Fathima</td>\n",
       "      <td>Daughter</td>\n",
       "    </tr>\n",
       "    <tr>\n",
       "      <th>3</th>\n",
       "      <td>Nusayba Khadija</td>\n",
       "      <td>Daughter</td>\n",
       "    </tr>\n",
       "    <tr>\n",
       "      <th>4</th>\n",
       "      <td>Sulaith Rabaita</td>\n",
       "      <td>Sister</td>\n",
       "    </tr>\n",
       "    <tr>\n",
       "      <th>5</th>\n",
       "      <td>Akmal Mohammed</td>\n",
       "      <td>Brother-in-law</td>\n",
       "    </tr>\n",
       "    <tr>\n",
       "      <th>6</th>\n",
       "      <td>Mariam Mohammed</td>\n",
       "      <td>Niece</td>\n",
       "    </tr>\n",
       "    <tr>\n",
       "      <th>7</th>\n",
       "      <td>Sarah Mohammed</td>\n",
       "      <td>Niece</td>\n",
       "    </tr>\n",
       "  </tbody>\n",
       "</table>\n",
       "</div>"
      ],
      "text/plain": [
       "             Names    Relationship\n",
       "0    Shabeeb Rabha         Husband\n",
       "1    Sabah Ebrahim            Wife\n",
       "2  Rumaysa Fathima        Daughter\n",
       "3  Nusayba Khadija        Daughter\n",
       "4  Sulaith Rabaita          Sister\n",
       "5   Akmal Mohammed  Brother-in-law\n",
       "6  Mariam Mohammed           Niece\n",
       "7   Sarah Mohammed           Niece"
      ]
     },
     "execution_count": 47,
     "metadata": {},
     "output_type": "execute_result"
    }
   ],
   "source": [
    "df"
   ]
  },
  {
   "cell_type": "code",
   "execution_count": 48,
   "id": "cda6c01b",
   "metadata": {},
   "outputs": [],
   "source": [
    "df.loc[8,[\"Names\",\"Relationship\"]] = ['Mohammed Zaheer Ahmed','Father']\n",
    "df.loc[9,[\"Names\",\"Relationship\"]] = ['Sirajunnisa','Mother']"
   ]
  },
  {
   "cell_type": "code",
   "execution_count": 49,
   "id": "2986b8ea",
   "metadata": {},
   "outputs": [
    {
     "data": {
      "text/html": [
       "<div>\n",
       "<style scoped>\n",
       "    .dataframe tbody tr th:only-of-type {\n",
       "        vertical-align: middle;\n",
       "    }\n",
       "\n",
       "    .dataframe tbody tr th {\n",
       "        vertical-align: top;\n",
       "    }\n",
       "\n",
       "    .dataframe thead th {\n",
       "        text-align: right;\n",
       "    }\n",
       "</style>\n",
       "<table border=\"1\" class=\"dataframe\">\n",
       "  <thead>\n",
       "    <tr style=\"text-align: right;\">\n",
       "      <th></th>\n",
       "      <th>Names</th>\n",
       "      <th>Relationship</th>\n",
       "    </tr>\n",
       "  </thead>\n",
       "  <tbody>\n",
       "    <tr>\n",
       "      <th>0</th>\n",
       "      <td>Shabeeb Rabha</td>\n",
       "      <td>Husband</td>\n",
       "    </tr>\n",
       "    <tr>\n",
       "      <th>1</th>\n",
       "      <td>Sabah Ebrahim</td>\n",
       "      <td>Wife</td>\n",
       "    </tr>\n",
       "    <tr>\n",
       "      <th>2</th>\n",
       "      <td>Rumaysa Fathima</td>\n",
       "      <td>Daughter</td>\n",
       "    </tr>\n",
       "    <tr>\n",
       "      <th>3</th>\n",
       "      <td>Nusayba Khadija</td>\n",
       "      <td>Daughter</td>\n",
       "    </tr>\n",
       "    <tr>\n",
       "      <th>4</th>\n",
       "      <td>Sulaith Rabaita</td>\n",
       "      <td>Sister</td>\n",
       "    </tr>\n",
       "    <tr>\n",
       "      <th>5</th>\n",
       "      <td>Akmal Mohammed</td>\n",
       "      <td>Brother-in-law</td>\n",
       "    </tr>\n",
       "    <tr>\n",
       "      <th>6</th>\n",
       "      <td>Mariam Mohammed</td>\n",
       "      <td>Niece</td>\n",
       "    </tr>\n",
       "    <tr>\n",
       "      <th>7</th>\n",
       "      <td>Sarah Mohammed</td>\n",
       "      <td>Niece</td>\n",
       "    </tr>\n",
       "    <tr>\n",
       "      <th>8</th>\n",
       "      <td>Mohammed Zaheer Ahmed</td>\n",
       "      <td>Father</td>\n",
       "    </tr>\n",
       "    <tr>\n",
       "      <th>9</th>\n",
       "      <td>Sirajunnisa</td>\n",
       "      <td>Mother</td>\n",
       "    </tr>\n",
       "  </tbody>\n",
       "</table>\n",
       "</div>"
      ],
      "text/plain": [
       "                   Names    Relationship\n",
       "0          Shabeeb Rabha         Husband\n",
       "1          Sabah Ebrahim            Wife\n",
       "2        Rumaysa Fathima        Daughter\n",
       "3        Nusayba Khadija        Daughter\n",
       "4        Sulaith Rabaita          Sister\n",
       "5         Akmal Mohammed  Brother-in-law\n",
       "6        Mariam Mohammed           Niece\n",
       "7         Sarah Mohammed           Niece\n",
       "8  Mohammed Zaheer Ahmed          Father\n",
       "9            Sirajunnisa          Mother"
      ]
     },
     "execution_count": 49,
     "metadata": {},
     "output_type": "execute_result"
    }
   ],
   "source": [
    "df"
   ]
  },
  {
   "cell_type": "code",
   "execution_count": 51,
   "id": "8fb433e6",
   "metadata": {},
   "outputs": [
    {
     "data": {
      "text/html": [
       "<div>\n",
       "<style scoped>\n",
       "    .dataframe tbody tr th:only-of-type {\n",
       "        vertical-align: middle;\n",
       "    }\n",
       "\n",
       "    .dataframe tbody tr th {\n",
       "        vertical-align: top;\n",
       "    }\n",
       "\n",
       "    .dataframe thead th {\n",
       "        text-align: right;\n",
       "    }\n",
       "</style>\n",
       "<table border=\"1\" class=\"dataframe\">\n",
       "  <thead>\n",
       "    <tr style=\"text-align: right;\">\n",
       "      <th></th>\n",
       "      <th>Names</th>\n",
       "      <th>Relationship</th>\n",
       "      <th>Sex</th>\n",
       "    </tr>\n",
       "  </thead>\n",
       "  <tbody>\n",
       "    <tr>\n",
       "      <th>0</th>\n",
       "      <td>Shabeeb Rabha</td>\n",
       "      <td>Husband</td>\n",
       "      <td>Male</td>\n",
       "    </tr>\n",
       "    <tr>\n",
       "      <th>1</th>\n",
       "      <td>Sabah Ebrahim</td>\n",
       "      <td>Wife</td>\n",
       "      <td>Female</td>\n",
       "    </tr>\n",
       "    <tr>\n",
       "      <th>2</th>\n",
       "      <td>Rumaysa Fathima</td>\n",
       "      <td>Daughter</td>\n",
       "      <td>Female</td>\n",
       "    </tr>\n",
       "    <tr>\n",
       "      <th>3</th>\n",
       "      <td>Nusayba Khadija</td>\n",
       "      <td>Daughter</td>\n",
       "      <td>Female</td>\n",
       "    </tr>\n",
       "    <tr>\n",
       "      <th>4</th>\n",
       "      <td>Sulaith Rabaita</td>\n",
       "      <td>Sister</td>\n",
       "      <td>Female</td>\n",
       "    </tr>\n",
       "    <tr>\n",
       "      <th>5</th>\n",
       "      <td>Akmal Mohammed</td>\n",
       "      <td>Brother-in-law</td>\n",
       "      <td>Male</td>\n",
       "    </tr>\n",
       "    <tr>\n",
       "      <th>6</th>\n",
       "      <td>Mariam Mohammed</td>\n",
       "      <td>Niece</td>\n",
       "      <td>Female</td>\n",
       "    </tr>\n",
       "    <tr>\n",
       "      <th>7</th>\n",
       "      <td>Sarah Mohammed</td>\n",
       "      <td>Niece</td>\n",
       "      <td>Female</td>\n",
       "    </tr>\n",
       "    <tr>\n",
       "      <th>8</th>\n",
       "      <td>Mohammed Zaheer Ahmed</td>\n",
       "      <td>Father</td>\n",
       "      <td>Male</td>\n",
       "    </tr>\n",
       "    <tr>\n",
       "      <th>9</th>\n",
       "      <td>Sirajunnisa</td>\n",
       "      <td>Mother</td>\n",
       "      <td>Female</td>\n",
       "    </tr>\n",
       "  </tbody>\n",
       "</table>\n",
       "</div>"
      ],
      "text/plain": [
       "                   Names    Relationship     Sex\n",
       "0          Shabeeb Rabha         Husband    Male\n",
       "1          Sabah Ebrahim            Wife  Female\n",
       "2        Rumaysa Fathima        Daughter  Female\n",
       "3        Nusayba Khadija        Daughter  Female\n",
       "4        Sulaith Rabaita          Sister  Female\n",
       "5         Akmal Mohammed  Brother-in-law    Male\n",
       "6        Mariam Mohammed           Niece  Female\n",
       "7         Sarah Mohammed           Niece  Female\n",
       "8  Mohammed Zaheer Ahmed          Father    Male\n",
       "9            Sirajunnisa          Mother  Female"
      ]
     },
     "execution_count": 51,
     "metadata": {},
     "output_type": "execute_result"
    }
   ],
   "source": [
    "df.insert(2,\"Sex\",['Male', 'Female', 'Female', 'Female', 'Female', 'Male', 'Female','Female','Male','Female'])\n",
    "df"
   ]
  },
  {
   "cell_type": "code",
   "execution_count": 52,
   "id": "13386061",
   "metadata": {},
   "outputs": [
    {
     "data": {
      "text/html": [
       "<div>\n",
       "<style scoped>\n",
       "    .dataframe tbody tr th:only-of-type {\n",
       "        vertical-align: middle;\n",
       "    }\n",
       "\n",
       "    .dataframe tbody tr th {\n",
       "        vertical-align: top;\n",
       "    }\n",
       "\n",
       "    .dataframe thead th {\n",
       "        text-align: right;\n",
       "    }\n",
       "</style>\n",
       "<table border=\"1\" class=\"dataframe\">\n",
       "  <thead>\n",
       "    <tr style=\"text-align: right;\">\n",
       "      <th></th>\n",
       "      <th>Names</th>\n",
       "      <th>Relationship</th>\n",
       "      <th>Sex</th>\n",
       "      <th>Location</th>\n",
       "    </tr>\n",
       "  </thead>\n",
       "  <tbody>\n",
       "    <tr>\n",
       "      <th>0</th>\n",
       "      <td>Shabeeb Rabha</td>\n",
       "      <td>Husband</td>\n",
       "      <td>Male</td>\n",
       "      <td>Bengaluru</td>\n",
       "    </tr>\n",
       "    <tr>\n",
       "      <th>1</th>\n",
       "      <td>Sabah Ebrahim</td>\n",
       "      <td>Wife</td>\n",
       "      <td>Female</td>\n",
       "      <td>Bengaluru</td>\n",
       "    </tr>\n",
       "    <tr>\n",
       "      <th>2</th>\n",
       "      <td>Rumaysa Fathima</td>\n",
       "      <td>Daughter</td>\n",
       "      <td>Female</td>\n",
       "      <td>Bengaluru</td>\n",
       "    </tr>\n",
       "    <tr>\n",
       "      <th>3</th>\n",
       "      <td>Nusayba Khadija</td>\n",
       "      <td>Daughter</td>\n",
       "      <td>Female</td>\n",
       "      <td>Bengaluru</td>\n",
       "    </tr>\n",
       "    <tr>\n",
       "      <th>4</th>\n",
       "      <td>Sulaith Rabaita</td>\n",
       "      <td>Sister</td>\n",
       "      <td>Female</td>\n",
       "      <td>Kuwait</td>\n",
       "    </tr>\n",
       "    <tr>\n",
       "      <th>5</th>\n",
       "      <td>Akmal Mohammed</td>\n",
       "      <td>Brother-in-law</td>\n",
       "      <td>Male</td>\n",
       "      <td>Kuwait</td>\n",
       "    </tr>\n",
       "    <tr>\n",
       "      <th>6</th>\n",
       "      <td>Mariam Mohammed</td>\n",
       "      <td>Niece</td>\n",
       "      <td>Female</td>\n",
       "      <td>Kuwait</td>\n",
       "    </tr>\n",
       "    <tr>\n",
       "      <th>7</th>\n",
       "      <td>Sarah Mohammed</td>\n",
       "      <td>Niece</td>\n",
       "      <td>Female</td>\n",
       "      <td>Kuwait</td>\n",
       "    </tr>\n",
       "    <tr>\n",
       "      <th>8</th>\n",
       "      <td>Mohammed Zaheer Ahmed</td>\n",
       "      <td>Father</td>\n",
       "      <td>Male</td>\n",
       "      <td>Bengaluru</td>\n",
       "    </tr>\n",
       "    <tr>\n",
       "      <th>9</th>\n",
       "      <td>Sirajunnisa</td>\n",
       "      <td>Mother</td>\n",
       "      <td>Female</td>\n",
       "      <td>Bengaluru</td>\n",
       "    </tr>\n",
       "  </tbody>\n",
       "</table>\n",
       "</div>"
      ],
      "text/plain": [
       "                   Names    Relationship     Sex   Location\n",
       "0          Shabeeb Rabha         Husband    Male  Bengaluru\n",
       "1          Sabah Ebrahim            Wife  Female  Bengaluru\n",
       "2        Rumaysa Fathima        Daughter  Female  Bengaluru\n",
       "3        Nusayba Khadija        Daughter  Female  Bengaluru\n",
       "4        Sulaith Rabaita          Sister  Female     Kuwait\n",
       "5         Akmal Mohammed  Brother-in-law    Male     Kuwait\n",
       "6        Mariam Mohammed           Niece  Female     Kuwait\n",
       "7         Sarah Mohammed           Niece  Female     Kuwait\n",
       "8  Mohammed Zaheer Ahmed          Father    Male  Bengaluru\n",
       "9            Sirajunnisa          Mother  Female  Bengaluru"
      ]
     },
     "execution_count": 52,
     "metadata": {},
     "output_type": "execute_result"
    }
   ],
   "source": [
    "df.insert(3,\"Location\",['Bengaluru', 'Bengaluru', 'Bengaluru', 'Bengaluru', 'Kuwait', 'Kuwait', 'Kuwait','Kuwait','Bengaluru','Bengaluru'])\n",
    "df"
   ]
  },
  {
   "cell_type": "code",
   "execution_count": 56,
   "id": "22a4626e",
   "metadata": {},
   "outputs": [],
   "source": [
    "new_list = [200,100,300,'abc','def',900]"
   ]
  },
  {
   "cell_type": "code",
   "execution_count": 57,
   "id": "55941a0f",
   "metadata": {},
   "outputs": [
    {
     "data": {
      "text/plain": [
       "[200, 100, 300, 'abc', 'def', 900]"
      ]
     },
     "execution_count": 57,
     "metadata": {},
     "output_type": "execute_result"
    }
   ],
   "source": [
    "new_list"
   ]
  },
  {
   "cell_type": "code",
   "execution_count": 58,
   "id": "baa5889c",
   "metadata": {},
   "outputs": [],
   "source": [
    "new_list.append('syed')"
   ]
  },
  {
   "cell_type": "code",
   "execution_count": 59,
   "id": "89dc22ed",
   "metadata": {},
   "outputs": [
    {
     "data": {
      "text/plain": [
       "[200, 100, 300, 'abc', 'def', 900, 'syed']"
      ]
     },
     "execution_count": 59,
     "metadata": {},
     "output_type": "execute_result"
    }
   ],
   "source": [
    "new_list"
   ]
  },
  {
   "cell_type": "code",
   "execution_count": 60,
   "id": "229a5419",
   "metadata": {},
   "outputs": [
    {
     "data": {
      "text/plain": [
       "900"
      ]
     },
     "execution_count": 60,
     "metadata": {},
     "output_type": "execute_result"
    }
   ],
   "source": [
    "new_list[5]"
   ]
  },
  {
   "cell_type": "code",
   "execution_count": 61,
   "id": "d52529c2",
   "metadata": {},
   "outputs": [
    {
     "data": {
      "text/plain": [
       "7"
      ]
     },
     "execution_count": 61,
     "metadata": {},
     "output_type": "execute_result"
    }
   ],
   "source": [
    "len(new_list)"
   ]
  },
  {
   "cell_type": "code",
   "execution_count": 70,
   "id": "77e38005",
   "metadata": {},
   "outputs": [
    {
     "data": {
      "text/plain": [
       "'syed'"
      ]
     },
     "execution_count": 70,
     "metadata": {},
     "output_type": "execute_result"
    }
   ],
   "source": [
    "new_list[-1]"
   ]
  },
  {
   "cell_type": "code",
   "execution_count": 71,
   "id": "fe74956b",
   "metadata": {},
   "outputs": [
    {
     "data": {
      "text/plain": [
       "'abc'"
      ]
     },
     "execution_count": 71,
     "metadata": {},
     "output_type": "execute_result"
    }
   ],
   "source": [
    "new_list[-4]"
   ]
  },
  {
   "cell_type": "markdown",
   "id": "75aa8c60",
   "metadata": {},
   "source": [
    "### .insert()\n",
    "- It is used to add a value to the list in any order or particular index"
   ]
  },
  {
   "cell_type": "code",
   "execution_count": 72,
   "id": "b79dce66",
   "metadata": {},
   "outputs": [],
   "source": [
    "new_list.insert(2,'Hippo')"
   ]
  },
  {
   "cell_type": "code",
   "execution_count": 73,
   "id": "3352d7ef",
   "metadata": {},
   "outputs": [
    {
     "data": {
      "text/plain": [
       "[200, 100, 'Hippo', 300, 'abc', 'def', 900, 'syed']"
      ]
     },
     "execution_count": 73,
     "metadata": {},
     "output_type": "execute_result"
    }
   ],
   "source": [
    "new_list"
   ]
  },
  {
   "cell_type": "code",
   "execution_count": 83,
   "id": "48a59223",
   "metadata": {},
   "outputs": [
    {
     "data": {
      "text/plain": [
       "[200, 100, 'Hippo', 300, 'abc', 'def']"
      ]
     },
     "execution_count": 83,
     "metadata": {},
     "output_type": "execute_result"
    }
   ],
   "source": [
    "new_list[:-2]"
   ]
  },
  {
   "cell_type": "markdown",
   "id": "183750db",
   "metadata": {},
   "source": [
    "#### .append() \n",
    "- It is used to add a value to a list, it adds values in the end of the list."
   ]
  },
  {
   "cell_type": "code",
   "execution_count": 84,
   "id": "065e4e20",
   "metadata": {},
   "outputs": [
    {
     "data": {
      "text/plain": [
       "[200, 100, 'Hippo', 300, 'abc', 'def', 900, 'syed']"
      ]
     },
     "execution_count": 84,
     "metadata": {},
     "output_type": "execute_result"
    }
   ],
   "source": [
    "new_list"
   ]
  },
  {
   "cell_type": "code",
   "execution_count": 85,
   "id": "ea320259",
   "metadata": {},
   "outputs": [],
   "source": [
    "new_list.append('pink')"
   ]
  },
  {
   "cell_type": "code",
   "execution_count": 86,
   "id": "727e72fd",
   "metadata": {},
   "outputs": [
    {
     "data": {
      "text/plain": [
       "[200, 100, 'Hippo', 300, 'abc', 'def', 900, 'syed', 'pink']"
      ]
     },
     "execution_count": 86,
     "metadata": {},
     "output_type": "execute_result"
    }
   ],
   "source": [
    "new_list"
   ]
  },
  {
   "cell_type": "markdown",
   "id": "d8472fe0",
   "metadata": {},
   "source": [
    "### .extend()\n",
    "- It is used to add value to the list without getting added the values as nested list"
   ]
  },
  {
   "cell_type": "code",
   "execution_count": 89,
   "id": "5a061fc4",
   "metadata": {},
   "outputs": [],
   "source": [
    "# example for append vs extend\n",
    "\n",
    "new_list = [200, 100, 'Hippo', 300, 'abc', 'def', 900, 'syed', 'pink']"
   ]
  },
  {
   "cell_type": "code",
   "execution_count": 90,
   "id": "1688cda2",
   "metadata": {},
   "outputs": [
    {
     "data": {
      "text/plain": [
       "[200, 100, 'Hippo', 300, 'abc', 'def', 900, 'syed', 'pink']"
      ]
     },
     "execution_count": 90,
     "metadata": {},
     "output_type": "execute_result"
    }
   ],
   "source": [
    "new_list"
   ]
  },
  {
   "cell_type": "code",
   "execution_count": 91,
   "id": "f7989892",
   "metadata": {},
   "outputs": [
    {
     "data": {
      "text/plain": [
       "[200, 100, 'Hippo', 300, 'abc', 'def', 900, 'syed', 'pink', ['12', '13']]"
      ]
     },
     "execution_count": 91,
     "metadata": {},
     "output_type": "execute_result"
    }
   ],
   "source": [
    "new_list.append(['12','13'])\n",
    "new_list"
   ]
  },
  {
   "cell_type": "code",
   "execution_count": 92,
   "id": "649e8c28",
   "metadata": {},
   "outputs": [
    {
     "data": {
      "text/plain": [
       "[200,\n",
       " 100,\n",
       " 'Hippo',\n",
       " 300,\n",
       " 'abc',\n",
       " 'def',\n",
       " 900,\n",
       " 'syed',\n",
       " 'pink',\n",
       " ['12', '13'],\n",
       " '14',\n",
       " '15']"
      ]
     },
     "execution_count": 92,
     "metadata": {},
     "output_type": "execute_result"
    }
   ],
   "source": [
    "new_list.extend(['14','15'])\n",
    "new_list"
   ]
  },
  {
   "cell_type": "markdown",
   "id": "e0fb2d75",
   "metadata": {},
   "source": [
    "As you can see that in extend the values are taken as normal value to the list and where as in .append the values were taken as nested list"
   ]
  },
  {
   "cell_type": "markdown",
   "id": "5e060baa",
   "metadata": {},
   "source": [
    "# Various Operations performed on list"
   ]
  },
  {
   "cell_type": "code",
   "execution_count": 95,
   "id": "2b1b52b1",
   "metadata": {},
   "outputs": [
    {
     "data": {
      "text/plain": [
       "[1, 2, 3, 4, 5, 6, 7, 8, 9, 10]"
      ]
     },
     "execution_count": 95,
     "metadata": {},
     "output_type": "execute_result"
    }
   ],
   "source": [
    "list2 = [1,2,3,4,5,6,7,8,9,10]\n",
    "list2"
   ]
  },
  {
   "cell_type": "markdown",
   "id": "426b5a45",
   "metadata": {},
   "source": [
    "### sum() operator\n",
    "- It adds all the values of a list and gives the result"
   ]
  },
  {
   "cell_type": "code",
   "execution_count": 96,
   "id": "39885e7f",
   "metadata": {},
   "outputs": [
    {
     "data": {
      "text/plain": [
       "55"
      ]
     },
     "execution_count": 96,
     "metadata": {},
     "output_type": "execute_result"
    }
   ],
   "source": [
    "sum(list2)"
   ]
  },
  {
   "cell_type": "markdown",
   "id": "d919d118",
   "metadata": {},
   "source": [
    "### .pop() operator\n",
    "- It will by default remove last value of the list \n",
    "- If given any index value then that position value will be removed"
   ]
  },
  {
   "cell_type": "code",
   "execution_count": 97,
   "id": "32839cba",
   "metadata": {},
   "outputs": [
    {
     "data": {
      "text/plain": [
       "10"
      ]
     },
     "execution_count": 97,
     "metadata": {},
     "output_type": "execute_result"
    }
   ],
   "source": [
    "list2.pop()"
   ]
  },
  {
   "cell_type": "code",
   "execution_count": 98,
   "id": "5ab4b97c",
   "metadata": {},
   "outputs": [
    {
     "data": {
      "text/plain": [
       "[1, 2, 3, 4, 5, 6, 7, 8, 9]"
      ]
     },
     "execution_count": 98,
     "metadata": {},
     "output_type": "execute_result"
    }
   ],
   "source": [
    "list2"
   ]
  },
  {
   "cell_type": "code",
   "execution_count": 99,
   "id": "cc7b6435",
   "metadata": {},
   "outputs": [
    {
     "data": {
      "text/plain": [
       "5"
      ]
     },
     "execution_count": 99,
     "metadata": {},
     "output_type": "execute_result"
    }
   ],
   "source": [
    "list2.pop(4)"
   ]
  },
  {
   "cell_type": "code",
   "execution_count": 100,
   "id": "bc99afe1",
   "metadata": {},
   "outputs": [
    {
     "data": {
      "text/plain": [
       "[1, 2, 3, 4, 6, 7, 8, 9]"
      ]
     },
     "execution_count": 100,
     "metadata": {},
     "output_type": "execute_result"
    }
   ],
   "source": [
    "list2"
   ]
  },
  {
   "cell_type": "markdown",
   "id": "e6f995fe",
   "metadata": {},
   "source": [
    "### .count()\n",
    "- It will count the number of occurences of a given value in list"
   ]
  },
  {
   "cell_type": "code",
   "execution_count": 103,
   "id": "7faa29bf",
   "metadata": {},
   "outputs": [],
   "source": [
    "l3 = [1,1,2,3,4,5,5,5,5,5,5,5,5,6,7,8,9,9,9,8,8,8,9,9,9,9,4,4,4,4,44,4,44,4,4,4,4,4,4,4,4,4,4,4,4]"
   ]
  },
  {
   "cell_type": "code",
   "execution_count": 104,
   "id": "e06ff939",
   "metadata": {},
   "outputs": [
    {
     "data": {
      "text/plain": [
       "1"
      ]
     },
     "execution_count": 104,
     "metadata": {},
     "output_type": "execute_result"
    }
   ],
   "source": [
    "l3.count(3)"
   ]
  },
  {
   "cell_type": "code",
   "execution_count": 105,
   "id": "81988c3a",
   "metadata": {},
   "outputs": [
    {
     "data": {
      "text/plain": [
       "2"
      ]
     },
     "execution_count": 105,
     "metadata": {},
     "output_type": "execute_result"
    }
   ],
   "source": [
    "l3.count(44)"
   ]
  },
  {
   "cell_type": "code",
   "execution_count": 106,
   "id": "e3aff052",
   "metadata": {},
   "outputs": [
    {
     "data": {
      "text/plain": [
       "18"
      ]
     },
     "execution_count": 106,
     "metadata": {},
     "output_type": "execute_result"
    }
   ],
   "source": [
    "l3.count(4)"
   ]
  },
  {
   "cell_type": "code",
   "execution_count": 107,
   "id": "c9cbe3e4",
   "metadata": {},
   "outputs": [
    {
     "data": {
      "text/plain": [
       "8"
      ]
     },
     "execution_count": 107,
     "metadata": {},
     "output_type": "execute_result"
    }
   ],
   "source": [
    "l3.count(5)"
   ]
  },
  {
   "cell_type": "markdown",
   "id": "4a067079",
   "metadata": {},
   "source": [
    "### .index()\n",
    "- It returns the index of the first occurence.\n",
    "- Start and End index values are not mandatory."
   ]
  },
  {
   "cell_type": "code",
   "execution_count": 108,
   "id": "228ad054",
   "metadata": {},
   "outputs": [
    {
     "data": {
      "text/plain": [
       "[1,\n",
       " 1,\n",
       " 2,\n",
       " 3,\n",
       " 4,\n",
       " 5,\n",
       " 5,\n",
       " 5,\n",
       " 5,\n",
       " 5,\n",
       " 5,\n",
       " 5,\n",
       " 5,\n",
       " 6,\n",
       " 7,\n",
       " 8,\n",
       " 9,\n",
       " 9,\n",
       " 9,\n",
       " 8,\n",
       " 8,\n",
       " 8,\n",
       " 9,\n",
       " 9,\n",
       " 9,\n",
       " 9,\n",
       " 4,\n",
       " 4,\n",
       " 4,\n",
       " 4,\n",
       " 44,\n",
       " 4,\n",
       " 44,\n",
       " 4,\n",
       " 4,\n",
       " 4,\n",
       " 4,\n",
       " 4,\n",
       " 4,\n",
       " 4,\n",
       " 4,\n",
       " 4,\n",
       " 4,\n",
       " 4,\n",
       " 4]"
      ]
     },
     "execution_count": 108,
     "metadata": {},
     "output_type": "execute_result"
    }
   ],
   "source": [
    "l3"
   ]
  },
  {
   "cell_type": "code",
   "execution_count": 110,
   "id": "0a43d858",
   "metadata": {},
   "outputs": [
    {
     "data": {
      "text/plain": [
       "1"
      ]
     },
     "execution_count": 110,
     "metadata": {},
     "output_type": "execute_result"
    }
   ],
   "source": [
    "l3.index(1,1,6)"
   ]
  },
  {
   "cell_type": "code",
   "execution_count": 118,
   "id": "0d337693",
   "metadata": {},
   "outputs": [
    {
     "data": {
      "text/plain": [
       "30"
      ]
     },
     "execution_count": 118,
     "metadata": {},
     "output_type": "execute_result"
    }
   ],
   "source": [
    "l3.index(44,0,100)"
   ]
  },
  {
   "cell_type": "markdown",
   "id": "52514fff",
   "metadata": {},
   "source": [
    "### len()\n",
    "- It returns length of a list"
   ]
  },
  {
   "cell_type": "code",
   "execution_count": 120,
   "id": "af81a9b6",
   "metadata": {},
   "outputs": [
    {
     "data": {
      "text/plain": [
       "45"
      ]
     },
     "execution_count": 120,
     "metadata": {},
     "output_type": "execute_result"
    }
   ],
   "source": [
    "len(l3)"
   ]
  },
  {
   "cell_type": "markdown",
   "id": "d6cfd4dd",
   "metadata": {},
   "source": [
    "### min() and max() \n",
    "- They return the minimum and maximum values present in the list"
   ]
  },
  {
   "cell_type": "code",
   "execution_count": 131,
   "id": "7cae33dc",
   "metadata": {},
   "outputs": [
    {
     "name": "stdout",
     "output_type": "stream",
     "text": [
      "The Minimum value present in the list l3 is : '1'\n"
     ]
    }
   ],
   "source": [
    "minimum = min(l3)\n",
    "print (\"The Minimum value present in the list l3 is : '{}'\".format(minimum)) \n",
    "\n"
   ]
  },
  {
   "cell_type": "code",
   "execution_count": 132,
   "id": "c06fdc67",
   "metadata": {},
   "outputs": [
    {
     "name": "stdout",
     "output_type": "stream",
     "text": [
      "The Maximum value present in the list l3 is :'44' \n"
     ]
    }
   ],
   "source": [
    "maximum = max(l3)\n",
    "print (\"The Maximum value present in the list l3 is :'{}' \".format(maximum) )\n"
   ]
  },
  {
   "cell_type": "markdown",
   "id": "a5ba94fa",
   "metadata": {},
   "source": [
    "## SETS\n",
    "- It is a collection of unordered data types which are iterable, mutable and has no duplicates. (It is based on data structure known as Hash Table)"
   ]
  },
  {
   "cell_type": "code",
   "execution_count": 134,
   "id": "31247ce0",
   "metadata": {},
   "outputs": [
    {
     "name": "stdout",
     "output_type": "stream",
     "text": [
      "set()\n"
     ]
    }
   ],
   "source": [
    "# Creating an empty Set\n",
    "\n",
    "new_set = set()\n",
    "print(new_set)"
   ]
  },
  {
   "cell_type": "code",
   "execution_count": 136,
   "id": "191255b9",
   "metadata": {},
   "outputs": [
    {
     "name": "stdout",
     "output_type": "stream",
     "text": [
      "The type of the set defined is <class 'set'>.\n"
     ]
    }
   ],
   "source": [
    "type_set = type(new_set)\n",
    "print(\"The type of the set defined is {}.\".format(type_set))"
   ]
  },
  {
   "cell_type": "code",
   "execution_count": 138,
   "id": "3a2a7fc4",
   "metadata": {},
   "outputs": [
    {
     "data": {
      "text/plain": [
       "{'a', 'b', 'c', 'd'}"
      ]
     },
     "execution_count": 138,
     "metadata": {},
     "output_type": "execute_result"
    }
   ],
   "source": [
    "new_set = {'a','b','c','d','a','b'}\n",
    "new_set"
   ]
  },
  {
   "cell_type": "markdown",
   "id": "6fbb76ef",
   "metadata": {},
   "source": [
    "As you can see that the set does not contain duplicate values"
   ]
  },
  {
   "cell_type": "code",
   "execution_count": 139,
   "id": "389f3a30",
   "metadata": {},
   "outputs": [],
   "source": [
    "new_set = {'Abdul', 'Sana','Rahul', 'Raj','Ankita'}"
   ]
  },
  {
   "cell_type": "code",
   "execution_count": 140,
   "id": "aef3bb51",
   "metadata": {},
   "outputs": [
    {
     "data": {
      "text/plain": [
       "{'Abdul', 'Ankita', 'Rahul', 'Raj', 'Sana'}"
      ]
     },
     "execution_count": 140,
     "metadata": {},
     "output_type": "execute_result"
    }
   ],
   "source": [
    "new_set"
   ]
  },
  {
   "cell_type": "code",
   "execution_count": 141,
   "id": "5d05b58e",
   "metadata": {},
   "outputs": [
    {
     "data": {
      "text/plain": [
       "set"
      ]
     },
     "execution_count": 141,
     "metadata": {},
     "output_type": "execute_result"
    }
   ],
   "source": [
    "type(new_set)"
   ]
  },
  {
   "cell_type": "code",
   "execution_count": 142,
   "id": "48fe1847",
   "metadata": {},
   "outputs": [
    {
     "ename": "TypeError",
     "evalue": "'set' object is not subscriptable",
     "output_type": "error",
     "traceback": [
      "\u001b[1;31m---------------------------------------------------------------------------\u001b[0m",
      "\u001b[1;31mTypeError\u001b[0m                                 Traceback (most recent call last)",
      "\u001b[1;32m<ipython-input-142-709dfe25118e>\u001b[0m in \u001b[0;36m<module>\u001b[1;34m\u001b[0m\n\u001b[0;32m      1\u001b[0m \u001b[1;31m# Indexing in Sets\u001b[0m\u001b[1;33m\u001b[0m\u001b[1;33m\u001b[0m\u001b[1;33m\u001b[0m\u001b[0m\n\u001b[1;32m----> 2\u001b[1;33m \u001b[0mnew_set\u001b[0m\u001b[1;33m[\u001b[0m\u001b[1;36m0\u001b[0m\u001b[1;33m]\u001b[0m\u001b[1;33m\u001b[0m\u001b[1;33m\u001b[0m\u001b[0m\n\u001b[0m",
      "\u001b[1;31mTypeError\u001b[0m: 'set' object is not subscriptable"
     ]
    }
   ],
   "source": [
    "# Indexing in Sets\n",
    "new_set[0]"
   ]
  },
  {
   "cell_type": "markdown",
   "id": "9b4cab33",
   "metadata": {},
   "source": [
    "As seen above Sets does not support Indexing"
   ]
  },
  {
   "cell_type": "code",
   "execution_count": 143,
   "id": "5b0c99ef",
   "metadata": {},
   "outputs": [
    {
     "ename": "TypeError",
     "evalue": "'set' object is not subscriptable",
     "output_type": "error",
     "traceback": [
      "\u001b[1;31m---------------------------------------------------------------------------\u001b[0m",
      "\u001b[1;31mTypeError\u001b[0m                                 Traceback (most recent call last)",
      "\u001b[1;32m<ipython-input-143-cecaba75c835>\u001b[0m in \u001b[0;36m<module>\u001b[1;34m\u001b[0m\n\u001b[0;32m      1\u001b[0m \u001b[1;31m# Subscripting in Sets\u001b[0m\u001b[1;33m\u001b[0m\u001b[1;33m\u001b[0m\u001b[1;33m\u001b[0m\u001b[0m\n\u001b[1;32m----> 2\u001b[1;33m \u001b[0mnew_set\u001b[0m\u001b[1;33m[\u001b[0m\u001b[1;34m'Ankita'\u001b[0m\u001b[1;33m]\u001b[0m\u001b[1;33m\u001b[0m\u001b[1;33m\u001b[0m\u001b[0m\n\u001b[0m",
      "\u001b[1;31mTypeError\u001b[0m: 'set' object is not subscriptable"
     ]
    }
   ],
   "source": [
    "# Subscripting in Sets\n",
    "new_set['Ankita']"
   ]
  },
  {
   "cell_type": "markdown",
   "id": "7f0c6270",
   "metadata": {},
   "source": [
    "Sets are not subscriptable"
   ]
  },
  {
   "cell_type": "markdown",
   "id": "0b1c5618",
   "metadata": {},
   "source": [
    "#### Note:\n",
    "- There are different methods for subrcripting and indexing of sets which is discussed later"
   ]
  },
  {
   "cell_type": "markdown",
   "id": "8dcb5ece",
   "metadata": {},
   "source": [
    "## Inbuilt methods or functions associated with sets\n",
    "- .add\n",
    "- .difference\n",
    "- .difference_update etc"
   ]
  },
  {
   "cell_type": "code",
   "execution_count": 144,
   "id": "a2d32fdf",
   "metadata": {},
   "outputs": [
    {
     "data": {
      "text/plain": [
       "{'Abdul', 'Ankita', 'Rahul', 'Raj', 'Sana'}"
      ]
     },
     "execution_count": 144,
     "metadata": {},
     "output_type": "execute_result"
    }
   ],
   "source": [
    "new_set"
   ]
  },
  {
   "cell_type": "code",
   "execution_count": 145,
   "id": "68e726c4",
   "metadata": {},
   "outputs": [
    {
     "data": {
      "text/plain": [
       "{'Abdul', 'Ankita', 'Pavan', 'Rahul', 'Raj', 'Sana'}"
      ]
     },
     "execution_count": 145,
     "metadata": {},
     "output_type": "execute_result"
    }
   ],
   "source": [
    "new_set.add('Pavan')\n",
    "new_set"
   ]
  },
  {
   "cell_type": "code",
   "execution_count": 160,
   "id": "e1fddada",
   "metadata": {},
   "outputs": [],
   "source": [
    "set2=set()\n",
    "set2 = {'Abdul','Sana','Pavan','Raj'}"
   ]
  },
  {
   "cell_type": "code",
   "execution_count": 161,
   "id": "4d6cb71f",
   "metadata": {},
   "outputs": [
    {
     "data": {
      "text/plain": [
       "{'Ankita', 'Rahul'}"
      ]
     },
     "execution_count": 161,
     "metadata": {},
     "output_type": "execute_result"
    }
   ],
   "source": [
    "# new_set-set2 \n",
    "new_set.difference(set2)"
   ]
  },
  {
   "cell_type": "code",
   "execution_count": 162,
   "id": "7a396600",
   "metadata": {},
   "outputs": [
    {
     "data": {
      "text/plain": [
       "{'Ankita', 'Rahul'}"
      ]
     },
     "execution_count": 162,
     "metadata": {},
     "output_type": "execute_result"
    }
   ],
   "source": [
    "new_set"
   ]
  },
  {
   "cell_type": "code",
   "execution_count": 163,
   "id": "d45a6f9c",
   "metadata": {},
   "outputs": [],
   "source": [
    "# Now the new_set will be updated as well\n",
    "new_set.difference_update(set2)"
   ]
  },
  {
   "cell_type": "code",
   "execution_count": 164,
   "id": "099cbc53",
   "metadata": {},
   "outputs": [
    {
     "data": {
      "text/plain": [
       "{'Ankita', 'Rahul'}"
      ]
     },
     "execution_count": 164,
     "metadata": {},
     "output_type": "execute_result"
    }
   ],
   "source": [
    "new_set"
   ]
  },
  {
   "cell_type": "code",
   "execution_count": 169,
   "id": "73090ed0",
   "metadata": {},
   "outputs": [],
   "source": [
    "new_set.add('Mujassum')"
   ]
  },
  {
   "cell_type": "code",
   "execution_count": 170,
   "id": "7dc20ab3",
   "metadata": {},
   "outputs": [
    {
     "data": {
      "text/plain": [
       "{'Abdul', 'Mujassum', 'Pavan', 'Raj', 'Sana'}"
      ]
     },
     "execution_count": 170,
     "metadata": {},
     "output_type": "execute_result"
    }
   ],
   "source": [
    "# Like wise lets check intersection and intersection_update\n",
    "set2.add('Mujassum')\n",
    "set2"
   ]
  },
  {
   "cell_type": "code",
   "execution_count": 171,
   "id": "e35241d5",
   "metadata": {},
   "outputs": [
    {
     "data": {
      "text/plain": [
       "set"
      ]
     },
     "execution_count": 171,
     "metadata": {},
     "output_type": "execute_result"
    }
   ],
   "source": [
    "type(set2)"
   ]
  },
  {
   "cell_type": "code",
   "execution_count": 172,
   "id": "b0c7377e",
   "metadata": {},
   "outputs": [
    {
     "data": {
      "text/plain": [
       "{'Ankita', 'Mujassum', 'Rahul'}"
      ]
     },
     "execution_count": 172,
     "metadata": {},
     "output_type": "execute_result"
    }
   ],
   "source": [
    "new_set"
   ]
  },
  {
   "cell_type": "code",
   "execution_count": 173,
   "id": "c0f4034c",
   "metadata": {},
   "outputs": [
    {
     "data": {
      "text/plain": [
       "{'Mujassum'}"
      ]
     },
     "execution_count": 173,
     "metadata": {},
     "output_type": "execute_result"
    }
   ],
   "source": [
    "set2.intersection(new_set)"
   ]
  },
  {
   "cell_type": "code",
   "execution_count": 174,
   "id": "b5ce3b54",
   "metadata": {},
   "outputs": [
    {
     "data": {
      "text/plain": [
       "{'Abdul', 'Mujassum', 'Pavan', 'Raj', 'Sana'}"
      ]
     },
     "execution_count": 174,
     "metadata": {},
     "output_type": "execute_result"
    }
   ],
   "source": [
    "set2"
   ]
  },
  {
   "cell_type": "code",
   "execution_count": 175,
   "id": "b7f323fa",
   "metadata": {},
   "outputs": [],
   "source": [
    "set2.intersection_update(new_set)"
   ]
  },
  {
   "cell_type": "code",
   "execution_count": 176,
   "id": "2fb5b691",
   "metadata": {},
   "outputs": [
    {
     "data": {
      "text/plain": [
       "{'Mujassum'}"
      ]
     },
     "execution_count": 176,
     "metadata": {},
     "output_type": "execute_result"
    }
   ],
   "source": [
    "set2"
   ]
  },
  {
   "cell_type": "markdown",
   "id": "c6694f97",
   "metadata": {},
   "source": [
    "# Dictionaries\n",
    "### it is a collection of keyvalue pairs which is mutable and indexed\n",
    "- The difference in sets and dictionaries is, in dictionary it is defined by empty curly braces\n",
    "- whereas sets we pass the values in curly braces like 1,2,3,a,ab etc.\n",
    "- In dictionary the values are added in key-value pairs like {\"car\" : \"BMW\", \"name\" : \"syed\"} etc."
   ]
  },
  {
   "cell_type": "code",
   "execution_count": 177,
   "id": "bb53412d",
   "metadata": {},
   "outputs": [
    {
     "data": {
      "text/plain": [
       "dict"
      ]
     },
     "execution_count": 177,
     "metadata": {},
     "output_type": "execute_result"
    }
   ],
   "source": [
    "dic = {}\n",
    "type(dic)"
   ]
  },
  {
   "cell_type": "code",
   "execution_count": 178,
   "id": "5dc05267",
   "metadata": {},
   "outputs": [
    {
     "data": {
      "text/plain": [
       "set"
      ]
     },
     "execution_count": 178,
     "metadata": {},
     "output_type": "execute_result"
    }
   ],
   "source": [
    "dic2 = {'1','a','ab'}\n",
    "type(dic2)"
   ]
  },
  {
   "cell_type": "code",
   "execution_count": 179,
   "id": "c808816a",
   "metadata": {},
   "outputs": [
    {
     "data": {
      "text/plain": [
       "{'Name': 'Syed', 'Gender': 'M', 'Nationality': 'India'}"
      ]
     },
     "execution_count": 179,
     "metadata": {},
     "output_type": "execute_result"
    }
   ],
   "source": [
    "dic3={\"Name\":\"Syed\",\"Gender\":\"M\",\"Nationality\":\"India\"}\n",
    "dic3"
   ]
  },
  {
   "cell_type": "code",
   "execution_count": 180,
   "id": "1c721434",
   "metadata": {},
   "outputs": [
    {
     "data": {
      "text/plain": [
       "dict"
      ]
     },
     "execution_count": 180,
     "metadata": {},
     "output_type": "execute_result"
    }
   ],
   "source": [
    "type(dic3)"
   ]
  },
  {
   "cell_type": "markdown",
   "id": "73c0fb38",
   "metadata": {},
   "source": [
    "### Note: \n",
    "- In dictionaries the indexing is done by key value not index number"
   ]
  },
  {
   "cell_type": "code",
   "execution_count": 181,
   "id": "b5bfd34d",
   "metadata": {},
   "outputs": [
    {
     "data": {
      "text/plain": [
       "{'Name': 'Syed', 'Gender': 'M', 'Nationality': 'India'}"
      ]
     },
     "execution_count": 181,
     "metadata": {},
     "output_type": "execute_result"
    }
   ],
   "source": [
    "dic3"
   ]
  },
  {
   "cell_type": "code",
   "execution_count": 184,
   "id": "5a3201ae",
   "metadata": {},
   "outputs": [
    {
     "data": {
      "text/plain": [
       "'Syed'"
      ]
     },
     "execution_count": 184,
     "metadata": {},
     "output_type": "execute_result"
    }
   ],
   "source": [
    "dic3['Name']"
   ]
  },
  {
   "cell_type": "code",
   "execution_count": 185,
   "id": "13b3c8ce",
   "metadata": {},
   "outputs": [
    {
     "name": "stdout",
     "output_type": "stream",
     "text": [
      "Name\n",
      "Gender\n",
      "Nationality\n"
     ]
    }
   ],
   "source": [
    "# using for loops for accessing dictionary (default it shall take the keys)\n",
    "\n",
    "for x in dic3:\n",
    "    print(x)"
   ]
  },
  {
   "cell_type": "code",
   "execution_count": 187,
   "id": "a2f0c05b",
   "metadata": {},
   "outputs": [
    {
     "name": "stdout",
     "output_type": "stream",
     "text": [
      "Syed\n",
      "M\n",
      "India\n"
     ]
    }
   ],
   "source": [
    "for x in dic3.values():\n",
    "    print(x)"
   ]
  },
  {
   "cell_type": "code",
   "execution_count": 195,
   "id": "489652ea",
   "metadata": {},
   "outputs": [
    {
     "name": "stdout",
     "output_type": "stream",
     "text": [
      "('Name', 'Syed')\n",
      "('Gender', 'M')\n",
      "('Nationality', 'India')\n"
     ]
    }
   ],
   "source": [
    "for x in dic3.items():\n",
    "    print( x)"
   ]
  },
  {
   "cell_type": "code",
   "execution_count": 196,
   "id": "f0774b17",
   "metadata": {},
   "outputs": [],
   "source": [
    "# Adding new entries to the dictionary\n",
    "dic3['Ethnicity']= 'South-East Asian'"
   ]
  },
  {
   "cell_type": "code",
   "execution_count": 197,
   "id": "87736df0",
   "metadata": {},
   "outputs": [
    {
     "data": {
      "text/plain": [
       "{'Name': 'Syed',\n",
       " 'Gender': 'M',\n",
       " 'Nationality': 'India',\n",
       " 'Ethnicity': 'South-East Asian'}"
      ]
     },
     "execution_count": 197,
     "metadata": {},
     "output_type": "execute_result"
    }
   ],
   "source": [
    "dic3"
   ]
  },
  {
   "cell_type": "markdown",
   "id": "b00112ab",
   "metadata": {},
   "source": [
    "## Nested Dictionaries"
   ]
  },
  {
   "cell_type": "code",
   "execution_count": 198,
   "id": "59cf794c",
   "metadata": {},
   "outputs": [],
   "source": [
    "car1_model = {'BMW':2004}\n",
    "car2_model = {'Mercedes':2007}\n",
    "car3_model = {'Audi':2011}\n",
    "\n",
    "cars = {'car1':car1_model,'car2':car2_model,'car3':'car3_model'}"
   ]
  },
  {
   "cell_type": "code",
   "execution_count": 199,
   "id": "6af25cd6",
   "metadata": {},
   "outputs": [
    {
     "data": {
      "text/plain": [
       "{'car1': {'BMW': 2004}, 'car2': {'Mercedes': 2007}, 'car3': 'car3_model'}"
      ]
     },
     "execution_count": 199,
     "metadata": {},
     "output_type": "execute_result"
    }
   ],
   "source": [
    "cars"
   ]
  },
  {
   "cell_type": "code",
   "execution_count": 200,
   "id": "0a3701f3",
   "metadata": {},
   "outputs": [],
   "source": [
    "cars['car3'] = car3_model"
   ]
  },
  {
   "cell_type": "code",
   "execution_count": 201,
   "id": "e805f40d",
   "metadata": {},
   "outputs": [
    {
     "data": {
      "text/plain": [
       "{'car1': {'BMW': 2004}, 'car2': {'Mercedes': 2007}, 'car3': {'Audi': 2011}}"
      ]
     },
     "execution_count": 201,
     "metadata": {},
     "output_type": "execute_result"
    }
   ],
   "source": [
    "cars"
   ]
  },
  {
   "cell_type": "code",
   "execution_count": 204,
   "id": "d2ca370b",
   "metadata": {},
   "outputs": [
    {
     "name": "stdout",
     "output_type": "stream",
     "text": [
      "{'BMW': 2004}\n"
     ]
    }
   ],
   "source": [
    "print(cars['car1'])"
   ]
  },
  {
   "cell_type": "code",
   "execution_count": 205,
   "id": "1f6a8a34",
   "metadata": {},
   "outputs": [
    {
     "name": "stdout",
     "output_type": "stream",
     "text": [
      "{'Mercedes': 2007}\n"
     ]
    }
   ],
   "source": [
    "print (cars['car2'])"
   ]
  },
  {
   "cell_type": "code",
   "execution_count": 206,
   "id": "4498fa7d",
   "metadata": {},
   "outputs": [
    {
     "name": "stdout",
     "output_type": "stream",
     "text": [
      "{'Audi': 2011}\n"
     ]
    }
   ],
   "source": [
    "print(cars['car3'])"
   ]
  },
  {
   "cell_type": "code",
   "execution_count": 207,
   "id": "b78c1b98",
   "metadata": {},
   "outputs": [
    {
     "name": "stdout",
     "output_type": "stream",
     "text": [
      "2007\n"
     ]
    }
   ],
   "source": [
    "print(cars['car2']['Mercedes'])"
   ]
  },
  {
   "cell_type": "code",
   "execution_count": 210,
   "id": "92bb4885",
   "metadata": {},
   "outputs": [
    {
     "name": "stdout",
     "output_type": "stream",
     "text": [
      "('car1', {'BMW': 2004})\n",
      "('car2', {'Mercedes': 2007})\n",
      "('car3', {'Audi': 2011})\n"
     ]
    }
   ],
   "source": [
    "for x in cars.items():\n",
    "    print(x)"
   ]
  },
  {
   "cell_type": "markdown",
   "id": "f565c719",
   "metadata": {},
   "source": [
    "### Tuples\n",
    "- tuples are defined by () and they are not mutable i,e the whole tuple can be changed but a single element cannot be changed in tuple\n",
    "- there are 2 in-built functions of tuple:\n",
    "                1. index - to find index of a element\n",
    "                2. count - to find counts of a element"
   ]
  },
  {
   "cell_type": "code",
   "execution_count": 211,
   "id": "c235553b",
   "metadata": {},
   "outputs": [
    {
     "data": {
      "text/plain": [
       "()"
      ]
     },
     "execution_count": 211,
     "metadata": {},
     "output_type": "execute_result"
    }
   ],
   "source": [
    "tup = tuple()\n",
    "tup"
   ]
  },
  {
   "cell_type": "code",
   "execution_count": 212,
   "id": "49d693e4",
   "metadata": {},
   "outputs": [],
   "source": [
    "tup = ('1','a','33')"
   ]
  },
  {
   "cell_type": "code",
   "execution_count": 213,
   "id": "4c91c1c6",
   "metadata": {},
   "outputs": [
    {
     "data": {
      "text/plain": [
       "('1', 'a', '33')"
      ]
     },
     "execution_count": 213,
     "metadata": {},
     "output_type": "execute_result"
    }
   ],
   "source": [
    "tup"
   ]
  },
  {
   "cell_type": "code",
   "execution_count": 214,
   "id": "e407a750",
   "metadata": {},
   "outputs": [
    {
     "data": {
      "text/plain": [
       "tuple"
      ]
     },
     "execution_count": 214,
     "metadata": {},
     "output_type": "execute_result"
    }
   ],
   "source": [
    "type(tup)"
   ]
  },
  {
   "cell_type": "code",
   "execution_count": 216,
   "id": "be379328",
   "metadata": {},
   "outputs": [
    {
     "ename": "TypeError",
     "evalue": "'tuple' object does not support item assignment",
     "output_type": "error",
     "traceback": [
      "\u001b[1;31m---------------------------------------------------------------------------\u001b[0m",
      "\u001b[1;31mTypeError\u001b[0m                                 Traceback (most recent call last)",
      "\u001b[1;32m<ipython-input-216-44fe66440396>\u001b[0m in \u001b[0;36m<module>\u001b[1;34m\u001b[0m\n\u001b[1;32m----> 1\u001b[1;33m \u001b[0mtup\u001b[0m\u001b[1;33m[\u001b[0m\u001b[1;36m0\u001b[0m\u001b[1;33m]\u001b[0m \u001b[1;33m=\u001b[0m \u001b[1;33m(\u001b[0m\u001b[1;34m'23'\u001b[0m\u001b[1;33m)\u001b[0m\u001b[1;33m\u001b[0m\u001b[1;33m\u001b[0m\u001b[0m\n\u001b[0m",
      "\u001b[1;31mTypeError\u001b[0m: 'tuple' object does not support item assignment"
     ]
    }
   ],
   "source": [
    "tup[0] = ('23')"
   ]
  },
  {
   "cell_type": "code",
   "execution_count": 217,
   "id": "b214fbc6",
   "metadata": {},
   "outputs": [
    {
     "data": {
      "text/plain": [
       "1"
      ]
     },
     "execution_count": 217,
     "metadata": {},
     "output_type": "execute_result"
    }
   ],
   "source": [
    "tup.count('a')"
   ]
  },
  {
   "cell_type": "code",
   "execution_count": 218,
   "id": "1a6b4803",
   "metadata": {},
   "outputs": [
    {
     "data": {
      "text/plain": [
       "2"
      ]
     },
     "execution_count": 218,
     "metadata": {},
     "output_type": "execute_result"
    }
   ],
   "source": [
    "tup.index('33')"
   ]
  },
  {
   "cell_type": "code",
   "execution_count": null,
   "id": "b8981d7e",
   "metadata": {},
   "outputs": [],
   "source": []
  },
  {
   "cell_type": "code",
   "execution_count": 226,
   "id": "e9db3d48",
   "metadata": {},
   "outputs": [],
   "source": [
    "first_name = 'Afeera'\n",
    "last_name = 'Sana'\n",
    "name = first_name + ' ' + last_name\n"
   ]
  },
  {
   "cell_type": "code",
   "execution_count": 227,
   "id": "bfbe6a28",
   "metadata": {},
   "outputs": [
    {
     "name": "stdout",
     "output_type": "stream",
     "text": [
      "Afeera Sana\n"
     ]
    }
   ],
   "source": [
    "print (name)"
   ]
  },
  {
   "cell_type": "code",
   "execution_count": 234,
   "id": "6be60eaa",
   "metadata": {},
   "outputs": [
    {
     "name": "stdout",
     "output_type": "stream",
     "text": [
      "1. Afeera Sana\n",
      "2. Afeera Sana\n",
      "3. Afeera Sana\n",
      "4. Afeera Sana\n",
      "5. Afeera Sana\n"
     ]
    }
   ],
   "source": [
    "print (\"1. Afeera Sana\")\n",
    "print (\"2. {} {}\".format(first_name,last_name))\n",
    "print (\"3. {First} {Last}\".format(First = first_name, Last = last_name))\n",
    "print(\"4. {name}\".format(name=name))\n",
    "print (\"5.\",name)"
   ]
  },
  {
   "cell_type": "code",
   "execution_count": null,
   "id": "50c9a14f",
   "metadata": {},
   "outputs": [],
   "source": []
  }
 ],
 "metadata": {
  "kernelspec": {
   "display_name": "Python 3",
   "language": "python",
   "name": "python3"
  },
  "language_info": {
   "codemirror_mode": {
    "name": "ipython",
    "version": 3
   },
   "file_extension": ".py",
   "mimetype": "text/x-python",
   "name": "python",
   "nbconvert_exporter": "python",
   "pygments_lexer": "ipython3",
   "version": "3.8.8"
  }
 },
 "nbformat": 4,
 "nbformat_minor": 5
}
